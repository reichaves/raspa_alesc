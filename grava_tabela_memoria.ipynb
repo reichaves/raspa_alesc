{
 "cells": [
  {
   "cell_type": "code",
   "execution_count": 1,
   "metadata": {
    "collapsed": true
   },
   "outputs": [],
   "source": [
    "from pprint import pprint\n",
    "import requests\n",
    "from bs4 import BeautifulSoup"
   ]
  },
  {
   "cell_type": "markdown",
   "metadata": {},
   "source": [
    "### Exemplo Antonio Aguiar, abril de 2015"
   ]
  },
  {
   "cell_type": "code",
   "execution_count": 2,
   "metadata": {
    "collapsed": true
   },
   "outputs": [],
   "source": [
    "conta = 13493\n",
    "periodo = '04-2015'"
   ]
  },
  {
   "cell_type": "code",
   "execution_count": 4,
   "metadata": {
    "collapsed": true
   },
   "outputs": [],
   "source": [
    "url = 'http://transparencia.alesc.sc.gov.br/gabinetes.php?conta={0}&&periodo={1}'.format(conta, periodo)"
   ]
  },
  {
   "cell_type": "markdown",
   "metadata": {},
   "source": [
    "### Abre conexão com URL e salva código HTML"
   ]
  },
  {
   "cell_type": "code",
   "execution_count": 5,
   "metadata": {
    "collapsed": true
   },
   "outputs": [],
   "source": [
    "html = requests.get(url)"
   ]
  },
  {
   "cell_type": "markdown",
   "metadata": {},
   "source": [
    "### Transforma código HTML em objeto BeautifulSoup"
   ]
  },
  {
   "cell_type": "code",
   "execution_count": 6,
   "metadata": {
    "collapsed": true
   },
   "outputs": [],
   "source": [
    "soup = BeautifulSoup(html.content, 'html.parser')"
   ]
  },
  {
   "cell_type": "markdown",
   "metadata": {},
   "source": [
    "### Seleciona as linhas da tabela no código, cria uma lista. Copia do seletor com inspecionar elemento"
   ]
  },
  {
   "cell_type": "code",
   "execution_count": 7,
   "metadata": {
    "collapsed": true
   },
   "outputs": [],
   "source": [
    "tabela_html = soup.select(\"#conteudo table tr\")"
   ]
  },
  {
   "cell_type": "markdown",
   "metadata": {},
   "source": [
    "### Cria uma lista vazia onde cada item será cada linha da tabela"
   ]
  },
  {
   "cell_type": "code",
   "execution_count": 9,
   "metadata": {
    "collapsed": true
   },
   "outputs": [],
   "source": [
    "tabela_final = []"
   ]
  },
  {
   "cell_type": "markdown",
   "metadata": {},
   "source": [
    "### Adiciona o primeiro item da tabela final, o cabeçalho e inclui duas colunas: gabinete e período"
   ]
  },
  {
   "cell_type": "code",
   "execution_count": 10,
   "metadata": {
    "collapsed": true
   },
   "outputs": [],
   "source": [
    "tabela_final.append(['Gabinete', 'Periodo', 'Grupo', 'Total'])"
   ]
  },
  {
   "cell_type": "markdown",
   "metadata": {},
   "source": [
    "### Para cada linha na tabela final, pulando o cabeçalho"
   ]
  },
  {
   "cell_type": "code",
   "execution_count": 13,
   "metadata": {},
   "outputs": [],
   "source": [
    "for linha in tabela_html[1:]:\n",
    "\t# Extrai o texto da primeira célula da linha\n",
    "\tvalor_grupo = linha.select('td')[0].text.encode('utf-8')\n",
    "\t# Extrai o texto da segunda célula da linha e remove espaços\n",
    "\tvalor_total = linha.select('td')[1].text.strip().encode('utf-8')\n",
    "\t# Adiciona a linha como um item na tabela final, com as quatro colunas \n",
    "\ttabela_final.append([conta, periodo, valor_grupo, valor_total])\n"
   ]
  },
  {
   "cell_type": "markdown",
   "metadata": {},
   "source": [
    "### Exibe tabela final"
   ]
  },
  {
   "cell_type": "code",
   "execution_count": 14,
   "metadata": {},
   "outputs": [
    {
     "name": "stdout",
     "output_type": "stream",
     "text": [
      "[['Gabinete', 'Periodo', 'Grupo', 'Total'],\n",
      " [13493, '04-2015', b'ALMOXARIFADO', b'0,00'],\n",
      " [13493, '04-2015', b'COMBUST\\xc3\\x8dVEIS', b'1.624,11'],\n",
      " [13493, '04-2015', b'CORRESPOND\\xc3\\x8aNCIA / TELEGRAMA', b'251,10'],\n",
      " [13493, '04-2015', b'GR\\xc3\\x81FICA', b'318,50'],\n",
      " [13493, '04-2015', b'INSCRI\\xc3\\x87\\xc3\\x83O', b'0,00'],\n",
      " [13493, '04-2015', b'PASSAGENS', b'241,59'],\n",
      " [13493, '04-2015', b'TELEFONE', b'1.974,96'],\n",
      " [13493,\n",
      "  '04-2015',\n",
      "  b'VERBA INDENIZAT\\xc3\\x93RIA DO EXERC\\xc3\\x8dCIO PARLAMENTAR',\n",
      "  b'759,21']]\n"
     ]
    }
   ],
   "source": [
    "pprint(tabela_final)"
   ]
  },
  {
   "cell_type": "code",
   "execution_count": null,
   "metadata": {
    "collapsed": true
   },
   "outputs": [],
   "source": []
  }
 ],
 "metadata": {
  "kernelspec": {
   "display_name": "Python 3",
   "language": "python",
   "name": "python3"
  },
  "language_info": {
   "codemirror_mode": {
    "name": "ipython",
    "version": 3
   },
   "file_extension": ".py",
   "mimetype": "text/x-python",
   "name": "python",
   "nbconvert_exporter": "python",
   "pygments_lexer": "ipython3",
   "version": "3.6.1"
  }
 },
 "nbformat": 4,
 "nbformat_minor": 2
}

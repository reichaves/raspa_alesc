{
 "cells": [
  {
   "cell_type": "code",
   "execution_count": 1,
   "metadata": {
    "collapsed": true
   },
   "outputs": [],
   "source": [
    "import csv"
   ]
  },
  {
   "cell_type": "markdown",
   "metadata": {},
   "source": [
    "### Lista contendo as linhas da tabela corrente"
   ]
  },
  {
   "cell_type": "code",
   "execution_count": 2,
   "metadata": {
    "collapsed": true
   },
   "outputs": [],
   "source": [
    "tabela_final = [['Gabinete', 'Periodo', 'Grupo', 'Total'],\n",
    " [13493, '04-2015', b'ALMOXARIFADO', b'0,00'],\n",
    " [13493, '04-2015', b'COMBUST\\xc3\\x8dVEIS', b'1.624,11'],\n",
    " [13493, '04-2015', b'CORRESPOND\\xc3\\x8aNCIA / TELEGRAMA', b'251,10'],\n",
    " [13493, '04-2015', b'GR\\xc3\\x81FICA', b'318,50'],\n",
    " [13493, '04-2015', b'INSCRI\\xc3\\x87\\xc3\\x83O', b'0,00'],\n",
    " [13493, '04-2015', b'PASSAGENS', b'241,59'],\n",
    " [13493, '04-2015', b'TELEFONE', b'1.974,96'],\n",
    " [13493,\n",
    "  '04-2015',\n",
    "  b'VERBA INDENIZAT\\xc3\\x93RIA DO EXERC\\xc3\\x8dCIO PARLAMENTAR',\n",
    "  b'759,21']]"
   ]
  },
  {
   "cell_type": "markdown",
   "metadata": {},
   "source": [
    "### Indica que o cabeçalho precisa ser gravado"
   ]
  },
  {
   "cell_type": "code",
   "execution_count": 3,
   "metadata": {
    "collapsed": true
   },
   "outputs": [],
   "source": [
    "header = True"
   ]
  },
  {
   "cell_type": "markdown",
   "metadata": {},
   "source": [
    "### Abre um arquivo no computador e prepara para gravação"
   ]
  },
  {
   "cell_type": "code",
   "execution_count": 4,
   "metadata": {},
   "outputs": [],
   "source": [
    "with open('tabela.csv', 'a') as f:\n",
    "    # usa a ferramenta \"writer\" do módulo csv\n",
    "    writer = csv.writer(f)\n",
    "    # se precisarmos gravar o cabeçalho...\n",
    "    if header is True:\n",
    "        # gravamos o cabeçalho\n",
    "        writer.writerow(tabela_final[0])\n",
    "        # marcamos que não é mais preciso gravar o cabeçalho\n",
    "        header = False\n",
    "    # gravamos o restante das linhas no CSV\n",
    "    writer.writerows(tabela_final[1:])"
   ]
  },
  {
   "cell_type": "code",
   "execution_count": null,
   "metadata": {
    "collapsed": true
   },
   "outputs": [],
   "source": []
  }
 ],
 "metadata": {
  "kernelspec": {
   "display_name": "Python 3",
   "language": "python",
   "name": "python3"
  },
  "language_info": {
   "codemirror_mode": {
    "name": "ipython",
    "version": 3
   },
   "file_extension": ".py",
   "mimetype": "text/x-python",
   "name": "python",
   "nbconvert_exporter": "python",
   "pygments_lexer": "ipython3",
   "version": "3.6.1"
  }
 },
 "nbformat": 4,
 "nbformat_minor": 2
}

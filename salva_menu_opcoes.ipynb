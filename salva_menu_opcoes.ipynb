{
 "cells": [
  {
   "cell_type": "code",
   "execution_count": 1,
   "metadata": {
    "collapsed": true
   },
   "outputs": [],
   "source": [
    "from pprint import pprint"
   ]
  },
  {
   "cell_type": "code",
   "execution_count": 2,
   "metadata": {
    "collapsed": true
   },
   "outputs": [],
   "source": [
    "import requests"
   ]
  },
  {
   "cell_type": "code",
   "execution_count": 8,
   "metadata": {
    "collapsed": true
   },
   "outputs": [],
   "source": [
    "from bs4 import BeautifulSoup"
   ]
  },
  {
   "cell_type": "markdown",
   "metadata": {},
   "source": [
    "### Define URL inicial"
   ]
  },
  {
   "cell_type": "code",
   "execution_count": 4,
   "metadata": {
    "collapsed": true
   },
   "outputs": [],
   "source": [
    "url = 'http://transparencia.alesc.sc.gov.br/gabinetes.php'"
   ]
  },
  {
   "cell_type": "markdown",
   "metadata": {},
   "source": [
    "### Abre conexão com url e salva código html"
   ]
  },
  {
   "cell_type": "code",
   "execution_count": 6,
   "metadata": {
    "collapsed": true
   },
   "outputs": [],
   "source": [
    "html = requests.get(url)"
   ]
  },
  {
   "cell_type": "markdown",
   "metadata": {},
   "source": [
    "### Transforma código HTML em objeto BeautifulSoup"
   ]
  },
  {
   "cell_type": "code",
   "execution_count": 10,
   "metadata": {},
   "outputs": [],
   "source": [
    "sopa = BeautifulSoup(html.content, \"html.parser\")"
   ]
  },
  {
   "cell_type": "markdown",
   "metadata": {},
   "source": [
    "### Cria dicionário vázio"
   ]
  },
  {
   "cell_type": "code",
   "execution_count": 11,
   "metadata": {
    "collapsed": true
   },
   "outputs": [],
   "source": [
    "dicio = {}"
   ]
  },
  {
   "cell_type": "markdown",
   "metadata": {},
   "source": [
    "### Seletores dos menus. Encontrado com o Inspecionar elemento - Copy - Copy selector"
   ]
  },
  {
   "cell_type": "code",
   "execution_count": 12,
   "metadata": {
    "collapsed": true
   },
   "outputs": [],
   "source": [
    "seletor_conta = \"#conta\"\n",
    "seletor_periodo = \"#periodo\""
   ]
  },
  {
   "cell_type": "markdown",
   "metadata": {},
   "source": [
    "### Usa opções do BeautifulSoup para encontrar lista de opções do menu \"conta\". O seletor_conta ou seletor_gabinete funcionam abaixo"
   ]
  },
  {
   "cell_type": "code",
   "execution_count": 13,
   "metadata": {
    "collapsed": true
   },
   "outputs": [],
   "source": [
    "lista_opcoes = sopa.select(seletor_periodo)[0].find_all('option')"
   ]
  },
  {
   "cell_type": "markdown",
   "metadata": {},
   "source": [
    "### Itera sobre os itens da lista de opções"
   ]
  },
  {
   "cell_type": "code",
   "execution_count": 14,
   "metadata": {
    "collapsed": true
   },
   "outputs": [],
   "source": [
    "for item in lista_opcoes:\n",
    "\t# Salva o texto da opção\n",
    "\tnome = item.text\n",
    "\t# Salva o valor da opção\n",
    "\tvalor = item.attrs['value']\n",
    "\t# Grava o valor na chave nome\n",
    "\tdicio[nome] = valor"
   ]
  },
  {
   "cell_type": "code",
   "execution_count": 15,
   "metadata": {},
   "outputs": [
    {
     "name": "stdout",
     "output_type": "stream",
     "text": [
      "{'Abril/2011': '04-2011',\n",
      " 'Abril/2012': '04-2012',\n",
      " 'Abril/2013': '04-2013',\n",
      " 'Abril/2014': '04-2014',\n",
      " 'Abril/2015': '04-2015',\n",
      " 'Abril/2016': '04-2016',\n",
      " 'Abril/2017': '04-2017',\n",
      " 'Agosto/2011': '08-2011',\n",
      " 'Agosto/2012': '08-2012',\n",
      " 'Agosto/2013': '08-2013',\n",
      " 'Agosto/2014': '08-2014',\n",
      " 'Agosto/2015': '08-2015',\n",
      " 'Agosto/2016': '08-2016',\n",
      " 'Agosto/2017': '08-2017',\n",
      " 'Dezembro/2011': '12-2011',\n",
      " 'Dezembro/2012': '12-2012',\n",
      " 'Dezembro/2013': '12-2013',\n",
      " 'Dezembro/2014': '12-2014',\n",
      " 'Dezembro/2015': '12-2015',\n",
      " 'Dezembro/2016': '12-2016',\n",
      " 'Fevereiro/2012': '02-2012',\n",
      " 'Fevereiro/2013': '02-2013',\n",
      " 'Fevereiro/2014': '02-2014',\n",
      " 'Fevereiro/2015': '02-2015',\n",
      " 'Fevereiro/2016': '02-2016',\n",
      " 'Fevereiro/2017': '02-2017',\n",
      " 'Janeiro/2012': '01-2012',\n",
      " 'Janeiro/2013': '01-2013',\n",
      " 'Janeiro/2014': '01-2014',\n",
      " 'Janeiro/2015': '01-2015',\n",
      " 'Janeiro/2016': '01-2016',\n",
      " 'Janeiro/2017': '01-2017',\n",
      " 'Julho/2011': '07-2011',\n",
      " 'Julho/2012': '07-2012',\n",
      " 'Julho/2013': '07-2013',\n",
      " 'Julho/2014': '07-2014',\n",
      " 'Julho/2015': '07-2015',\n",
      " 'Julho/2016': '07-2016',\n",
      " 'Julho/2017': '07-2017',\n",
      " 'Junho/2011': '06-2011',\n",
      " 'Junho/2012': '06-2012',\n",
      " 'Junho/2013': '06-2013',\n",
      " 'Junho/2014': '06-2014',\n",
      " 'Junho/2015': '06-2015',\n",
      " 'Junho/2016': '06-2016',\n",
      " 'Junho/2017': '06-2017',\n",
      " 'Maio/2011': '05-2011',\n",
      " 'Maio/2012': '05-2012',\n",
      " 'Maio/2013': '05-2013',\n",
      " 'Maio/2014': '05-2014',\n",
      " 'Maio/2015': '05-2015',\n",
      " 'Maio/2016': '05-2016',\n",
      " 'Maio/2017': '05-2017',\n",
      " 'Março/2012': '03-2012',\n",
      " 'Março/2013': '03-2013',\n",
      " 'Março/2014': '03-2014',\n",
      " 'Março/2015': '03-2015',\n",
      " 'Março/2016': '03-2016',\n",
      " 'Março/2017': '03-2017',\n",
      " 'Novembro/2011': '11-2011',\n",
      " 'Novembro/2012': '11-2012',\n",
      " 'Novembro/2013': '11-2013',\n",
      " 'Novembro/2014': '11-2014',\n",
      " 'Novembro/2015': '11-2015',\n",
      " 'Novembro/2016': '11-2016',\n",
      " 'Outubro/2011': '10-2011',\n",
      " 'Outubro/2012': '10-2012',\n",
      " 'Outubro/2013': '10-2013',\n",
      " 'Outubro/2014': '10-2014',\n",
      " 'Outubro/2015': '10-2015',\n",
      " 'Outubro/2016': '10-2016',\n",
      " 'Setembro/2011': '09-2011',\n",
      " 'Setembro/2012': '09-2012',\n",
      " 'Setembro/2013': '09-2013',\n",
      " 'Setembro/2014': '09-2014',\n",
      " 'Setembro/2015': '09-2015',\n",
      " 'Setembro/2016': '09-2016'}\n"
     ]
    }
   ],
   "source": [
    "pprint(dicio)"
   ]
  },
  {
   "cell_type": "markdown",
   "metadata": {},
   "source": [
    "### Agora os parlamentares"
   ]
  },
  {
   "cell_type": "code",
   "execution_count": 19,
   "metadata": {
    "collapsed": true
   },
   "outputs": [],
   "source": [
    "dicio = {}"
   ]
  },
  {
   "cell_type": "code",
   "execution_count": 20,
   "metadata": {
    "collapsed": true
   },
   "outputs": [],
   "source": [
    "lista_opcoes = sopa.select(seletor_conta)[0].find_all('option')"
   ]
  },
  {
   "cell_type": "code",
   "execution_count": 21,
   "metadata": {
    "collapsed": true
   },
   "outputs": [],
   "source": [
    "for item in lista_opcoes:\n",
    "\t# Salva o texto da opção\n",
    "\tnome = item.text\n",
    "\t# Salva o valor da opção\n",
    "\tvalor = item.attrs['value']\n",
    "\t# Grava o valor na chave nome\n",
    "\tdicio[nome] = valor"
   ]
  },
  {
   "cell_type": "code",
   "execution_count": 22,
   "metadata": {},
   "outputs": [
    {
     "name": "stdout",
     "output_type": "stream",
     "text": [
      "{'Ada Lili Faraco Luca': '15148',\n",
      " 'Adilor Guglielmi': '13237',\n",
      " 'Aldo Schneider': '16567',\n",
      " 'Altair Guidi': '12253',\n",
      " 'Altair Silva': '15712',\n",
      " 'Amauri Soares': '15149',\n",
      " 'Ana Paula de Lima': '13978',\n",
      " 'Angela Albino': '16101',\n",
      " 'Antonio Plinio de Castro Silva': '16092',\n",
      " 'Antonio Serafim venzon': '15309',\n",
      " 'Antônio Aguiar': '13493',\n",
      " 'Carlos Chiodini': '15741',\n",
      " 'Carlos Fernando Coruja Agustini': '17748',\n",
      " 'Cesar Souza Junior': '15154',\n",
      " 'Cesar Valduga': '17722',\n",
      " 'Ciro Roza': '12866',\n",
      " 'Cleiton Salvaro': '17729',\n",
      " 'Dalmo Claro de Oliveira': '17843',\n",
      " 'Daniel Tozzo': '16907',\n",
      " 'Darci de Matos': '15152',\n",
      " 'Dieter Janssen': '16366',\n",
      " 'Dirce Aparecida Heiderscheidt': '16690',\n",
      " 'Dirceu Luiz Dresch': '14591',\n",
      " 'Edison Adrião Andrino de Oliveira': '11660',\n",
      " 'Elizeu Mattos': '15308',\n",
      " 'Fabio Francisco Flor': '18261',\n",
      " 'Gabriel Ribeiro': '16787',\n",
      " 'Gean Loureiro': '17723',\n",
      " 'Gelson Merísio': '14508',\n",
      " 'Gilmar Knaesel': '12563',\n",
      " 'Ismael dos Santos': '15742',\n",
      " 'Ivan Naatz': '15739',\n",
      " 'Jailson Lima da Silva': '15155',\n",
      " 'Jean Jackson Kuhlmann': '15156',\n",
      " 'Joares Ponticelli': '13208',\n",
      " 'Jorge Teixeira': '16565',\n",
      " 'José Milton Scheffer': '11135',\n",
      " 'José Nei Alberton Ascari': '14552',\n",
      " 'João Amin': '17721',\n",
      " 'Julio Cesar Ronconi': '17825',\n",
      " 'Kennedy Nunes': '15150',\n",
      " 'Leonel Pavan': '17720',\n",
      " 'Luciane Carminatti': '16566',\n",
      " 'Luiz Eduardo Cherem': '13986',\n",
      " 'Luiz Fernando Cardoso': '17747',\n",
      " 'Manoel Mota': '12553',\n",
      " 'Marcos Luiz Vieira': '11325',\n",
      " 'Mauricio José Eskudlark': '14749',\n",
      " 'Mauro de Nadal': '13310',\n",
      " 'Milton Hobus': '17728',\n",
      " 'Moacir Sopelsa': '13210',\n",
      " 'Mário Marcondes': '19060',\n",
      " 'Narcizo Parisotto': '13079',\n",
      " 'Natalino Lazare': '13629',\n",
      " 'Neodi Saretta': '12878',\n",
      " 'Nilso Jose Berlanda': '17085',\n",
      " 'Nilson Gonçalves de Souza': '13212',\n",
      " 'Odete de Jesus': '13213',\n",
      " 'Patrício Destro': '17725',\n",
      " 'Pedro Baldissera': '13990',\n",
      " 'Renato Luiz Hinning': '15157',\n",
      " 'Reno Caramori': '12556',\n",
      " 'Ricardo Guidi': '13200',\n",
      " 'Roberto Luiz Salum': '19138',\n",
      " 'Rodrigo Minotto': '17724',\n",
      " 'Romildo Titon': '12881',\n",
      " 'Sandro Daumiro da Silva': '17079',\n",
      " 'Selecione': '',\n",
      " 'Silvio Dreveck': '15158',\n",
      " 'Valdir Cobalchini': '12298',\n",
      " 'Valmir Comin': '13217',\n",
      " 'Valter Jose Gallina': '17080',\n",
      " 'Vicente Caropreso': '17726',\n",
      " 'Volnei Morastoni': '12884'}\n"
     ]
    }
   ],
   "source": [
    "pprint(dicio)"
   ]
  },
  {
   "cell_type": "code",
   "execution_count": null,
   "metadata": {
    "collapsed": true
   },
   "outputs": [],
   "source": []
  }
 ],
 "metadata": {
  "kernelspec": {
   "display_name": "Python 3",
   "language": "python",
   "name": "python3"
  },
  "language_info": {
   "codemirror_mode": {
    "name": "ipython",
    "version": 3
   },
   "file_extension": ".py",
   "mimetype": "text/x-python",
   "name": "python",
   "nbconvert_exporter": "python",
   "pygments_lexer": "ipython3",
   "version": "3.6.1"
  }
 },
 "nbformat": 4,
 "nbformat_minor": 2
}

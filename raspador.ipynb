{
 "cells": [
  {
   "cell_type": "code",
   "execution_count": 18,
   "metadata": {},
   "outputs": [],
   "source": [
    "import csv\n",
    "import requests\n",
    "from bs4 import BeautifulSoup"
   ]
  },
  {
   "cell_type": "markdown",
   "metadata": {},
   "source": [
    "### Função para acessar página, baixa código HTML e abrir um objeto BeautifulSoup"
   ]
  },
  {
   "cell_type": "code",
   "execution_count": 19,
   "metadata": {
    "collapsed": true
   },
   "outputs": [],
   "source": [
    "def prepara_sopa(url):\n",
    "\t# Cria objeto BeautifulSoup com o código HTML\n",
    "\t# url: string com o link da página\n",
    "\t# retorna objeto BeautifulSoup\n",
    "\thtml = requests.get(url)\n",
    "\tsopa = BeautifulSoup(html.content, 'html.parser')\n",
    "\treturn sopa"
   ]
  },
  {
   "cell_type": "markdown",
   "metadata": {},
   "source": [
    "### Função para pegar lista de nomes e seus códigos"
   ]
  },
  {
   "cell_type": "code",
   "execution_count": 20,
   "metadata": {
    "collapsed": true
   },
   "outputs": [],
   "source": [
    "def dicio_menu(sopa, selector):\n",
    "\t# Função para pegar a lista do menu e seus valores\n",
    "\t# sopa: objeto BeautifulSoup\n",
    "\t# selector: string com seletor do menu\n",
    "\t# retorna: dicionário com par opção:valor\n",
    "\tlista_opcoes = sopa.select(selector)[0].find_all(\"option\")\n",
    "\tdicio = {}\n",
    "\tfor item in lista_opcoes:\n",
    "\t\tnome = item.text.encode('utf-8')\n",
    "\t\tvalor = item.attrs['value'].encode('utf-8')\n",
    "\t\tdicio[nome] = valor\n",
    "\treturn dicio"
   ]
  },
  {
   "cell_type": "markdown",
   "metadata": {},
   "source": [
    "### Função para gerar URL usando código e data"
   ]
  },
  {
   "cell_type": "code",
   "execution_count": 21,
   "metadata": {
    "collapsed": true
   },
   "outputs": [],
   "source": [
    "def gera_url(conta, periodo):\n",
    "\t# Gera uma url usando o código da conta(gabinete) e o período selecionado\n",
    "\t# conta: string do seletor do menu \"conta\"\n",
    "\t# periodo: string do seletor do menu \"periodo\"\n",
    "\t# retorna string com URL\n",
    "\turl = 'http://transparencia.alesc.sc.gov.br/gabinetes.php?conta={0}&&periodo={1}'.format(conta, periodo)\n",
    "\treturn url"
   ]
  },
  {
   "cell_type": "markdown",
   "metadata": {},
   "source": [
    "### Função para extrair tabela da página e retornar dicionário com valores, incluindo gabinete e data"
   ]
  },
  {
   "cell_type": "code",
   "execution_count": 22,
   "metadata": {
    "collapsed": true
   },
   "outputs": [],
   "source": [
    "def extrai_tabela(sopa, conta, periodo):\n",
    "\t# Extrai tabela HTML da página e inclui conta e periodo\n",
    "\t# sopa: objeto BeautifulSoup\n",
    "\t# conta: string\n",
    "\t# periodo: string\n",
    "\t# retorna: lista - cada item é uma linha da tabela (a primeira é o cabeçalho)\n",
    "\ttabela_html = sopa.select('#conteudo table tr')\n",
    "\ttabela_final = []\n",
    "\ttabela_final.append(['Gabinete', 'Periodo', 'Grupo', 'Total'])\n",
    "\n",
    "\tfor linha in tabela_html[1:]:\n",
    "\t\tvalor_grupo = linha.select('td')[0].text.encode('utf-8')\n",
    "\t\tvalor_total = linha.select('td')[1].text.strip().encode('utf-8')\n",
    "\t\ttabela_final.append([conta, periodo, valor_grupo, valor_total])\n",
    "\n",
    "\treturn tabela_final"
   ]
  },
  {
   "cell_type": "markdown",
   "metadata": {},
   "source": [
    "### Função para salvar lista no arquivo CSV"
   ]
  },
  {
   "cell_type": "code",
   "execution_count": 23,
   "metadata": {
    "collapsed": true
   },
   "outputs": [],
   "source": [
    "def salva_csv(tabela_final, header):\n",
    "\t# Salva uma lista de linhas no arquivo CSV\n",
    "\t# tabela_final: lista em que cada item é uma linha da tabela\n",
    "\t# header: booleano, indica se devemos escrever o cabeçalho ou não\n",
    "\t# retorna: nada\n",
    "\twith open('alesc_gabinetes.csv', 'a') as f:\n",
    "\t\twriter = csv.writer(f)\n",
    "\t\tif header is True:\n",
    "\t\t\twriter.writerow(tabela_final[0])\n",
    "\t\twriter.writerows(tabela_final[1:])\n",
    "\treturn"
   ]
  },
  {
   "cell_type": "markdown",
   "metadata": {},
   "source": [
    "### Acessar página e iniciar objeto BeautifulSoup"
   ]
  },
  {
   "cell_type": "code",
   "execution_count": 24,
   "metadata": {
    "collapsed": true
   },
   "outputs": [],
   "source": [
    "url = 'http://transparencia.alesc.sc.gov.br/gabinetes.php'\n",
    "sopa = prepara_sopa(url)"
   ]
  },
  {
   "cell_type": "markdown",
   "metadata": {},
   "source": [
    "### Guardar lista de nomes de deputados e seus códigos"
   ]
  },
  {
   "cell_type": "code",
   "execution_count": 25,
   "metadata": {
    "collapsed": true
   },
   "outputs": [],
   "source": [
    "seletor_conta = \"#conta\"\n",
    "gabinetes = dicio_menu(sopa, seletor_conta)"
   ]
  },
  {
   "cell_type": "markdown",
   "metadata": {},
   "source": [
    "### Guardar lista de datas e seus códigos"
   ]
  },
  {
   "cell_type": "code",
   "execution_count": 26,
   "metadata": {
    "collapsed": true
   },
   "outputs": [],
   "source": [
    "seletor_periodo = \"#periodo\"\n",
    "datas = dicio_menu(sopa, seletor_periodo)\n",
    "header = True"
   ]
  },
  {
   "cell_type": "markdown",
   "metadata": {},
   "source": [
    "### Iterar sobre lista de deputados"
   ]
  },
  {
   "cell_type": "code",
   "execution_count": 30,
   "metadata": {},
   "outputs": [
    {
     "name": "stdout",
     "output_type": "stream",
     "text": [
      "Finalizado:  b'Selecione'\n",
      "Finalizado:  b'Ada Lili Faraco Luca'\n",
      "Finalizado:  b'Adilor Guglielmi'\n",
      "Finalizado:  b'Aldo Schneider'\n",
      "Finalizado:  b'Altair Guidi'\n",
      "Finalizado:  b'Altair Silva'\n",
      "Finalizado:  b'Amauri Soares'\n",
      "Finalizado:  b'Ana Paula de Lima'\n",
      "Finalizado:  b'Angela Albino'\n",
      "Finalizado:  b'Ant\\xc3\\xb4nio Aguiar'\n",
      "Finalizado:  b'Antonio Plinio de Castro Silva'\n",
      "Finalizado:  b'Antonio Serafim venzon'\n",
      "Finalizado:  b'Carlos Chiodini'\n",
      "Finalizado:  b'Carlos Fernando Coruja Agustini'\n",
      "Finalizado:  b'Cesar Souza Junior'\n",
      "Finalizado:  b'Cesar Valduga'\n",
      "Finalizado:  b'Ciro Roza'\n",
      "Finalizado:  b'Cleiton Salvaro'\n",
      "Finalizado:  b'Dalmo Claro de Oliveira'\n",
      "Finalizado:  b'Daniel Tozzo'\n",
      "Finalizado:  b'Darci de Matos'\n",
      "Finalizado:  b'Dieter Janssen'\n",
      "Finalizado:  b'Dirce Aparecida Heiderscheidt'\n",
      "Finalizado:  b'Dirceu Luiz Dresch'\n",
      "Finalizado:  b'Edison Adri\\xc3\\xa3o Andrino de Oliveira'\n",
      "Finalizado:  b'Elizeu Mattos'\n",
      "Finalizado:  b'Fabio Francisco Flor'\n",
      "Finalizado:  b'Gabriel Ribeiro'\n",
      "Finalizado:  b'Gean Loureiro'\n",
      "Finalizado:  b'Gelson Mer\\xc3\\xadsio'\n",
      "Finalizado:  b'Gilmar Knaesel'\n",
      "Finalizado:  b'Ismael dos Santos'\n",
      "Finalizado:  b'Ivan Naatz'\n",
      "Finalizado:  b'Jailson Lima da Silva'\n",
      "Finalizado:  b'Jean Jackson Kuhlmann'\n",
      "Finalizado:  b'Jo\\xc3\\xa3o Amin'\n",
      "Finalizado:  b'Joares Ponticelli'\n",
      "Finalizado:  b'Jorge Teixeira'\n",
      "Finalizado:  b'Jos\\xc3\\xa9 Milton Scheffer'\n",
      "Finalizado:  b'Jos\\xc3\\xa9 Nei Alberton Ascari'\n",
      "Finalizado:  b'Julio Cesar Ronconi'\n",
      "Finalizado:  b'Kennedy Nunes'\n",
      "Finalizado:  b'Leonel Pavan'\n",
      "Finalizado:  b'Luciane Carminatti'\n",
      "Finalizado:  b'Luiz Eduardo Cherem'\n",
      "Finalizado:  b'Luiz Fernando Cardoso'\n",
      "Finalizado:  b'Manoel Mota'\n",
      "Finalizado:  b'Marcos Luiz Vieira'\n",
      "Finalizado:  b'M\\xc3\\xa1rio Marcondes'\n",
      "Finalizado:  b'Mauricio Jos\\xc3\\xa9 Eskudlark'\n",
      "Finalizado:  b'Mauro de Nadal'\n",
      "Finalizado:  b'Milton Hobus'\n",
      "Finalizado:  b'Moacir Sopelsa'\n",
      "Finalizado:  b'Narcizo Parisotto'\n",
      "Finalizado:  b'Natalino Lazare'\n",
      "Finalizado:  b'Neodi Saretta'\n",
      "Finalizado:  b'Nilso Jose Berlanda'\n",
      "Finalizado:  b'Nilson Gon\\xc3\\xa7alves de Souza'\n",
      "Finalizado:  b'Odete de Jesus'\n",
      "Finalizado:  b'Patr\\xc3\\xadcio Destro'\n",
      "Finalizado:  b'Pedro Baldissera'\n",
      "Finalizado:  b'Renato Luiz Hinning'\n",
      "Finalizado:  b'Reno Caramori'\n",
      "Finalizado:  b'Ricardo Guidi'\n",
      "Finalizado:  b'Roberto Luiz Salum'\n",
      "Finalizado:  b'Rodrigo Minotto'\n",
      "Finalizado:  b'Romildo Titon'\n",
      "Finalizado:  b'Sandro Daumiro da Silva'\n",
      "Finalizado:  b'Silvio Dreveck'\n",
      "Finalizado:  b'Valdir Cobalchini'\n",
      "Finalizado:  b'Valmir Comin'\n",
      "Finalizado:  b'Valter Jose Gallina'\n",
      "Finalizado:  b'Vicente Caropreso'\n",
      "Finalizado:  b'Volnei Morastoni'\n",
      "Cabei! \\o/\n"
     ]
    }
   ],
   "source": [
    "for gabinete in gabinetes.items():\n",
    "\t# Iterar sobre listas de datas\n",
    "\tfor data in datas.items():\n",
    "\t\t# Gerar URL certa usando deputado + data\n",
    "\t\turl = gera_url(gabinete[1],data[1])\n",
    "\t\t# Acessar site usando função e pegando o objeto BeautifulSoup\n",
    "\t\tsopa = prepara_sopa(url)\n",
    "\t\t# Aplicar função para extrair tabela e gerar dicionário\n",
    "\t\ttabela_final = extrai_tabela(sopa, gabinete[0], data[0])\n",
    "\t\t# Função para salvar o dicionário no arquivo CSV\n",
    "\t\tsalva_csv(tabela_final, header)\n",
    "\t\theader = False\n",
    "\t# Exibe mensagem informando que terminou de gravar informações do gabinete\n",
    "\tprint (\"Finalizado: \", gabinete[0])\n",
    "\n",
    "print (\"Cabei! \\o/\")"
   ]
  },
  {
   "cell_type": "code",
   "execution_count": null,
   "metadata": {
    "collapsed": true
   },
   "outputs": [],
   "source": []
  }
 ],
 "metadata": {
  "kernelspec": {
   "display_name": "Python 3",
   "language": "python",
   "name": "python3"
  },
  "language_info": {
   "codemirror_mode": {
    "name": "ipython",
    "version": 3
   },
   "file_extension": ".py",
   "mimetype": "text/x-python",
   "name": "python",
   "nbconvert_exporter": "python",
   "pygments_lexer": "ipython3",
   "version": "3.6.1"
  }
 },
 "nbformat": 4,
 "nbformat_minor": 2
}

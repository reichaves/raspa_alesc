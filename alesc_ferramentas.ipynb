{
 "cells": [
  {
   "cell_type": "code",
   "execution_count": 1,
   "metadata": {
    "collapsed": true
   },
   "outputs": [],
   "source": [
    "import csv\n",
    "import requests\n",
    "from bs4 import BeautifulSoup"
   ]
  },
  {
   "cell_type": "markdown",
   "metadata": {},
   "source": [
    "### Função para acessar página, baixa código HTML e abrir um objeto BeautifulSoup"
   ]
  },
  {
   "cell_type": "code",
   "execution_count": 2,
   "metadata": {
    "collapsed": true
   },
   "outputs": [],
   "source": [
    "def prepara_sopa(url):\n",
    "\t# Cria objeto BeautifulSoup com o código HTML\n",
    "\t# url: string com o link da página\n",
    "\t# retorna objeto BeautifulSoup\n",
    "\thtml = requests.get(url)\n",
    "\tsopa = BeautifulSoup(html.content, 'html.parser')\n",
    "\treturn sopa"
   ]
  },
  {
   "cell_type": "markdown",
   "metadata": {},
   "source": [
    "### Função para pegar lista de nomes e seus códigos"
   ]
  },
  {
   "cell_type": "code",
   "execution_count": 3,
   "metadata": {
    "collapsed": true
   },
   "outputs": [],
   "source": [
    "def dicio_menu(sopa, selector):\n",
    "\t# Função para pegar a lista do menu e seus valores\n",
    "\t# sopa: objeto BeautifulSoup\n",
    "\t# selector: string com seletor do menu\n",
    "\t# retorna: dicionário com par opção:valor\n",
    "\tlista_opcoes = sopa.select(selector)[0].find_all(\"option\")\n",
    "\tdicio = {}\n",
    "\tfor item in lista_opcoes:\n",
    "\t\tnome = item.text.encode('utf-8')\n",
    "\t\tvalor = item.attrs['value'].encode('utf-8')\n",
    "\t\tdicio[nome] = valor\n",
    "\treturn dicio"
   ]
  },
  {
   "cell_type": "markdown",
   "metadata": {},
   "source": [
    "### Função para gerar URL usando código e data"
   ]
  },
  {
   "cell_type": "code",
   "execution_count": 4,
   "metadata": {
    "collapsed": true
   },
   "outputs": [],
   "source": [
    "def gera_url(conta, periodo):\n",
    "\t# Gera uma url usando o código da conta(gabinete) e o período selecionado\n",
    "\t# conta: string do seletor do menu \"conta\"\n",
    "\t# periodo: string do seletor do menu \"periodo\"\n",
    "\t# retorna string com URL\n",
    "\turl = 'http://transparencia.alesc.sc.gov.br/gabinetes.php?conta={0}&&periodo={1}'.format(conta, periodo)\n",
    "\treturn url"
   ]
  },
  {
   "cell_type": "markdown",
   "metadata": {},
   "source": [
    "### Função para extrair tabela da página e retornar dicionário com valores, incluindo gabinete e data"
   ]
  },
  {
   "cell_type": "code",
   "execution_count": 5,
   "metadata": {
    "collapsed": true
   },
   "outputs": [],
   "source": [
    "def extrai_tabela(sopa, conta, periodo):\n",
    "\t# Extrai tabela HTML da página e inclui conta e periodo\n",
    "\t# sopa: objeto BeautifulSoup\n",
    "\t# conta: string\n",
    "\t# periodo: string\n",
    "\t# retorna: lista - cada item é uma linha da tabela (a primeira é o cabeçalho)\n",
    "\ttabela_html = sopa.select('#conteudo table tr')\n",
    "\ttabela_final = []\n",
    "\ttabela_final.append(['Gabinete', 'Periodo', 'Grupo', 'Total'])\n",
    "\n",
    "\tfor linha in tabela_html[1:]:\n",
    "\t\tvalor_grupo = linha.select('td')[0].text.encode('utf-8')\n",
    "\t\tvalor_total = linha.select('td')[1].text.strip().encode('utf-8')\n",
    "\t\ttabela_final.append([conta, periodo, valor_grupo, valor_total])\n",
    "\n",
    "\treturn tabela_final"
   ]
  },
  {
   "cell_type": "markdown",
   "metadata": {},
   "source": [
    "### Função para salvar lista no arquivo CSV"
   ]
  },
  {
   "cell_type": "code",
   "execution_count": 6,
   "metadata": {
    "collapsed": true
   },
   "outputs": [],
   "source": [
    "def salva_csv(tabela_final, header):\n",
    "\t# Salva uma lista de linhas no arquivo CSV\n",
    "\t# tabela_final: lista em que cada item é uma linha da tabela\n",
    "\t# header: booleano, indica se devemos escrever o cabeçalho ou não\n",
    "\t# retorna: nada\n",
    "\twith open('alesc_gabinetes.csv', 'a') as f:\n",
    "\t\twriter = csv.writer(f)\n",
    "\t\tif header is True:\n",
    "\t\t\twriter.writerow(tabela_final[0])\n",
    "\t\twriter.writerows(tabela_final[1:])\n",
    "\treturn"
   ]
  }
 ],
 "metadata": {
  "kernelspec": {
   "display_name": "Python 3",
   "language": "python",
   "name": "python3"
  },
  "language_info": {
   "codemirror_mode": {
    "name": "ipython",
    "version": 3
   },
   "file_extension": ".py",
   "mimetype": "text/x-python",
   "name": "python",
   "nbconvert_exporter": "python",
   "pygments_lexer": "ipython3",
   "version": "3.6.1"
  }
 },
 "nbformat": 4,
 "nbformat_minor": 2
}
